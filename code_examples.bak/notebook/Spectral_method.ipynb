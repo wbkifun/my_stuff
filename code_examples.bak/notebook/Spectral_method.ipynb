{
 "metadata": {
  "name": "Spectral_method"
 },
 "nbformat": 3,
 "nbformat_minor": 0,
 "worksheets": [
  {
   "cells": [
    {
     "cell_type": "markdown",
     "metadata": {},
     "source": [
      "**'Implementing Spectral Methods for Partial Differential Equations'** (David A. Kopriva, 2009, Springer) \ucc45\uc5d0\uc11c \ubc1c\ucdcc\ud55c \ub0b4\uc6a9\uc784.\n",
      "\n",
      "\uae40\uae30\ud658 \uc815\ub9ac\n",
      "\n",
      "\ucd5c\ucd08\uc791\uc131: 2012.9.12"
     ]
    },
    {
     "cell_type": "markdown",
     "metadata": {},
     "source": [
      "## 1.8 Polynomial Basis Functions\n",
      "\n",
      "\ud574\uac00 \uc8fc\uae30\uc801\uc774\uc9c0 \uc54a\uc744 \ub54c\ub294 \uc9c1\uad50\ub2e4\ud56d\uc2dd(orthogonal polynomials)\ub97c \uae30\uc800\ud568\uc218\ub85c \uc0ac\uc6a9\ud55c\ub2e4. \uc774 \ub2e4\ud56d\uc2dd\uc740 \uc9c1\uad50\ud558\uace0 \uc81c\uacf1\uc801\ubd84\uac00\ub2a5(square integrable) \ud574\uc57c \ud55c\ub2e4. \uc190\uc26c\uc6b4 \ubc29\ubc95\uc740 Sturm-Liouville \uc774\ub860\uc744 \uc774\uc6a9\ud574\uc11c \uae30\uc800\ub4e4\uc744 \uc0dd\uc131\ud558\ub294 \uac83\uc774\ub2e4. Spectral \ubc29\ubc95\uc744 \uc0ac\uc6a9\ud558\ub294 \ub370\uc5d0 Sturm-Liouville \uc774\ub860\uc744 \uc790\uc138\ud788 \uc544\ub294 \uac83\uc774 \ud544\uc218\uc694\uac74\uc740 \uc544\ub2c8\uc9c0\ub9cc, \uc65c \uc5b4\ub5a4 \uae30\uc800\ud568\uc218\uac00 \ub2e4\ub978 \uac83\ubcf4\ub2e4 \ub354 \ud6a8\uacfc\uc801\uc778\uc9c0\ub97c \uc544\ub294\ub370 \ub3c4\uc6c0\uc744 \uc900\ub2e4. Sturm-Liouville \ubb38\uc81c\ub294 \ub2e4\uc74c\uacfc \uac19\uc740 2\ucc28 \uacbd\uacc4\uce58 \ubb38\uc81c\uc774\ub2e4.\n",
      "\n",
      "> $-\\frac{d}{dx} \\left\\( p(x) \\frac{du}{dx} \\right\\) +q(x) u = \\lambda w(x) x,\\qquad a\\lt x \\lt b$\n",
      "\n",
      "$p(a)=p(b)=0$ \uc77c \ub54c\ub294 *singular*, \ub2e4\ub978 \ub54c\ub294 *regular* \ud558\ub2e4\uace0 \ud55c\ub2e4. \uc774 \ub54c Sturm-Liouville \uc774\ub860\uc740 \uace0\uc720\uac12 $\\lambda$ \uac00 \uc2e4\uc218\uc774\uace0, \uc11c\ub85c \ub2e4\ub978 \uace0\uc720\uac12\uacfc \ub300\uc751\ud558\ub294 \uace0\uc720\ud568\uc218\ub4e4\uc740 \ubaa8\ub450 \uc9c1\uad50\ud558\ub2e4\ub294 \uac83\uc744 \uc54c\ub824\uc900\ub2e4. \uc801\uc808\ud55c \uacbd\uacc4 \uc870\uac74\uc5d0\uc11c Sturm-Liouville \ubb38\uc81c\ub294 \uace0\uc720\uac12\uc774 \uac00\uc0b0\ubb34\ud55c(countably infinite) \uc9d1\ud569\uc774 \ub418\uac8c \ub418\ub294\ub370, \uc774 \ub54c\uc758 \uace0\uc720\ud568\uc218\ub4e4\uc740 \uc81c\uacf1\uc801\ubd84\uac00\ub2a5\ud558\uba70 \uc9c1\uad50\ud558\uac8c \ub41c\ub2e4. \ub530\ub77c\uc11c \uc774 \uace0\uc720\ud568\uc218\ub4e4\uc744 spectral \ubc29\ubc95\uc758 \uae30\uc800\ud568\uc218\ub85c \uc0ac\uc6a9\ud560 \uc218 \uc788\ub2e4. \ud574\ub97c \uadfc\uc0ac\ud560 \ub54c\ub294 \uc808\ub2e8\ub41c \ud56d\ub4e4(truncated series)\uc744 \uc0ac\uc6a9\ud558\uac8c \ub418\ub294\ub370, \ub2e4\ud56d\uc2dd \uacc4\uc218\ub4e4\uc774 \uc5bc\ub9c8\ub098 \ube68\ub9ac \uac10\uc18c\ud558\ub294\uc9c0\uac00 \uc911\uc694\ud558\ub2e4. \uadf8\ub9ac\uace0 \uac10\uc18c \ube44\uc728\uc740 \uc624\uc9c1 \ud568\uc218\uc758 smoothness\uc5d0\ub9cc \uc758\uc874\ud55c\ub2e4\uace0 \uc54c\ub824\uc838 \uc788\ub2e4. Sturm-Liouville \ubb38\uc81c\uc758 \uace0\uc720\ud568\uc218\ub4e4\uc740 \ub2e4\ud56d\uc2dd\uc778\ub370, \ud574\uc758 \uad6c\uac04\uc744 [-1,1]\ub85c \ud55c\uc815\uc9c0\uc73c\uba74 \uc624\uc9c1 \ub2e4\uc74c \ud615\ud0dc\uc758 Sturm-Liouville \ubb38\uc81c\ub9cc\uc774 \uc774\ub7f0 \uc81c\uc57d\uc0ac\ud56d\ub4e4\uc744 \ub9cc\uc871\ud558\ub294 \uace0\uc720\ud568\uc218\ub97c \uac16\uac8c \ub41c\ub2e4.\n",
      "\n",
      "> $-\\frac{d}{dx} \\left\\( (1-x)^{1+\\alpha} (1+x)^{1=\\beta} \\frac{du}{dx} \\right\\) = \\lambda (1-x)^{\\alpha} (1+x)^{\\beta} u, \\qquad -1 \\lt x \\lt 1$\n",
      "\n",
      "\uc774 \ubb38\uc81c\uc758 \uace0\uc720\ud568\uc218 $P^{(\\alpha,\\beta)}_{k}(x)$\ub97c *Jacobi \ub2e4\ud56d\uc2dd* \uc774\ub77c\uace0 \ubd80\ub978\ub2e4. Jacobi \ub2e4\ud56d\uc2dd $P^{(\\alpha,\\beta)}_{k}(x)$\ub294 \uacc4\uc0b0 \uce21\uba74\uc5d0\uc11c \ub2e4\uc74c\uc758 \uba87 \uac00\uc9c0 \uc7a5\uc810\uc774 \uc788\ub2e4.\n",
      "\n",
      "1. \uc0bc\ud56d\uc7ac\uadc0\uad00\uacc4 (three-term recursion relation)\ub97c \uac00\uc9c0\uace0 \uc788\uc5b4\uc11c \uac12\uc744 \uacc4\uc0b0\ud558\uae30\uac00 \uc27d\ub2e4. \n",
      "2. \ub2e4\ud56d\uc2dd\uc758 \ud574\uac00 $k \\ge 1$ \uc77c \ub54c, k \uac1c\uc758 \uc2e4\uc218\ud574\uac00 \ubaa8\ub450 $(-1,1)$ \uad6c\uac04 \uc548\uc5d0 \uc788\ub2e4. \uc774 \uc131\uc9c8\uc740 \ub192\uc740 \ucc28\uc218\uc758 Gauss quadrature\ub97c \uc0dd\uc131\ud560 \ub54c \uc720\uc6a9\ud558\ub2e4. \n",
      "3. \ub2e4\ud56d\uc2dd\uc758 \ubbf8\ubd84 \uc5ed\uc2dc \uc0bc\ud56d\uc7ac\uadc0\uad00\uacc4\ub97c \uac00\uc838\uc11c \uae30\uc800\ud568\uc218\uc758 \ubbf8\ubd84 \uacc4\uc218\ub97c \uc27d\uac8c \uacc4\uc0b0\ud560 \uc218 \uc788\ub2e4.\n",
      "\n",
      "PDE\uc758 spectral \ud480\uc774\uc5d0\ub294 \ub2e4\uc74c \ub450 \uac1c\uc758 \ud2b9\uc218\ud55c Jacobi \ub2e4\ud56d\uc2dd\uc774 \uc0ac\uc6a9\ub41c\ub2e4.\n",
      "\n",
      "- *Legendre \ub2e4\ud56d\uc2dd* $L_k(x)=P^{(0,0)}(x)$\n",
      "- *Chebyshev \ub2e4\ud56d\uc2dd* $T_k(x)=P^{(-1/2,-1/2)}(x)$\n",
      "\n",
      "Legendre \ub2e4\ud56d\uc2dd\uc740 weight function $w(x)$\uac00 1\uc778 \uc7a5\uc810\uc774 \uc788\ub2e4. Chebyshev \ub2e4\ud56d\uc2dd\uc740  well-known nice approximation \uc131\uc9c8\uacfc, FFT\ub97c \uc774\uc6a9\ud574 Chebyshev series\ub97c \uc0dd\uc131\ud560 \uc218 \uc788\ub2e4\ub294 \uc7a5\uc810\uc774 \uc788\ub2e4."
     ]
    },
    {
     "cell_type": "markdown",
     "metadata": {},
     "source": [
      "### 1.8.1 The Legendre Polynomials\n",
      "Legendre \ub2e4\ud56d\uc2dd\uc740 \ub2e4\uc74c\uc758 \uc7ac\uadc0\uad00\uacc4\ub97c \ub9cc\uc871\ud55c\ub2e4.\n",
      "\n",
      "> $L_{k+1}(x) = \\frac{2k+1}{k+1} x L_{k}(x) - \\frac{k}{k+1} L_{k-1}(x)$\n",
      "\n",
      "> $L_0(x)=1,\\quad L_1(x)=x$\n",
      "\n",
      "\ubbf8\ubd84\uac12\uc758 \uc7ac\uadc0\uad00\uacc4\ub294 \ub2e4\uc74c\uacfc \uac19\ub2e4.\n",
      "\n",
      "> $(2k+1) L_{k}(x) =  \\frac{d}{dx} L_{k+1}(x) - \\frac{d}{dx} L_{k-1}(x)$\n",
      " \n",
      "\ub610\ud55c \ub2e4\uc74c \uc2dd\ub4e4\ub3c4 \ub9cc\uc871\ud55c\ub2e4.\n",
      "\n",
      "> $L_k(\\pm1) = (\\pm1)^k$\n",
      "\n",
      "> $||L_k||^2 = \\frac{2}{2k+1}$"
     ]
    },
    {
     "cell_type": "code",
     "collapsed": false,
     "input": [
      "from __future__ import division\n",
      "import numpy\n",
      "\n",
      "\n",
      "def legendre_polynomial(k, x):\n",
      "    if k == 0:\n",
      "        return numpy.ones_like(x)\n",
      "    elif k == 1:\n",
      "        return x\n",
      "    else:\n",
      "        Lm2, Lm1 = 1, x\n",
      "        for j in xrange(2,k+1):\n",
      "            L = (2*j-1)/j * x * Lm1 - (j-1/j) * Lm2\n",
      "            Lm2, Lm1 = Lm1, L\n",
      "     \n",
      "        return L\n",
      "\n",
      "    \n",
      "# test    \n",
      "from numpy.testing import assert_array_equal as aae\n",
      "import matplotlib.pyplot as plt\n",
      "\n",
      "x = numpy.linspace(-1, 1, 100).astype(numpy.float128)\n",
      "aae(legendre_polynomial(0,x), numpy.ones_like(x))\n",
      "aae(legendre_polynomial(1,x), x)\n",
      "aae(legendre_polynomial(2,x), 1/2 * (3*x**2 - 1))"
     ],
     "language": "python",
     "metadata": {},
     "outputs": [
      {
       "ename": "AssertionError",
       "evalue": "\nArrays are not equal\n\n(mismatch 100.0%)\n x: array([ 0.0, -0.059993878, -0.11876339, -0.17630854, -0.23262932,\n       -0.28772574, -0.3415978, -0.39424549, -0.44566881, -0.49586777,\n       -0.54484236, -0.59259259, -0.63911846, -0.68441996, -0.72849709,...\n y: array([ 1.0,  0.94000612,  0.88123661,  0.82369146,  0.76737068,\n        0.71227426,  0.6584022,  0.60575451,  0.55433119,  0.50413223,\n        0.45515764,  0.40740741,  0.36088154,  0.31558004,  0.27150291,...",
       "output_type": "pyerr",
       "traceback": [
        "\u001b[0;31m---------------------------------------------------------------------------\u001b[0m\n\u001b[0;31mAssertionError\u001b[0m                            Traceback (most recent call last)",
        "\u001b[0;32m<ipython-input-15-fa3d6b9e62bd>\u001b[0m in \u001b[0;36m<module>\u001b[0;34m()\u001b[0m\n\u001b[1;32m     24\u001b[0m \u001b[0maae\u001b[0m\u001b[0;34m(\u001b[0m\u001b[0mlegendre_polynomial\u001b[0m\u001b[0;34m(\u001b[0m\u001b[0;36m0\u001b[0m\u001b[0;34m,\u001b[0m\u001b[0mx\u001b[0m\u001b[0;34m)\u001b[0m\u001b[0;34m,\u001b[0m \u001b[0mnumpy\u001b[0m\u001b[0;34m.\u001b[0m\u001b[0mones_like\u001b[0m\u001b[0;34m(\u001b[0m\u001b[0mx\u001b[0m\u001b[0;34m)\u001b[0m\u001b[0;34m)\u001b[0m\u001b[0;34m\u001b[0m\u001b[0m\n\u001b[1;32m     25\u001b[0m \u001b[0maae\u001b[0m\u001b[0;34m(\u001b[0m\u001b[0mlegendre_polynomial\u001b[0m\u001b[0;34m(\u001b[0m\u001b[0;36m1\u001b[0m\u001b[0;34m,\u001b[0m\u001b[0mx\u001b[0m\u001b[0;34m)\u001b[0m\u001b[0;34m,\u001b[0m \u001b[0mx\u001b[0m\u001b[0;34m)\u001b[0m\u001b[0;34m\u001b[0m\u001b[0m\n\u001b[0;32m---> 26\u001b[0;31m \u001b[0maae\u001b[0m\u001b[0;34m(\u001b[0m\u001b[0mlegendre_polynomial\u001b[0m\u001b[0;34m(\u001b[0m\u001b[0;36m2\u001b[0m\u001b[0;34m,\u001b[0m\u001b[0mx\u001b[0m\u001b[0;34m)\u001b[0m\u001b[0;34m,\u001b[0m \u001b[0;36m1\u001b[0m\u001b[0;34m/\u001b[0m\u001b[0;36m2\u001b[0m \u001b[0;34m*\u001b[0m \u001b[0;34m(\u001b[0m\u001b[0;36m3\u001b[0m\u001b[0;34m*\u001b[0m\u001b[0mx\u001b[0m\u001b[0;34m**\u001b[0m\u001b[0;36m2\u001b[0m \u001b[0;34m-\u001b[0m \u001b[0;36m1\u001b[0m\u001b[0;34m)\u001b[0m\u001b[0;34m)\u001b[0m\u001b[0;34m\u001b[0m\u001b[0m\n\u001b[0m",
        "\u001b[0;32m/usr/lib/pymodules/python2.7/numpy/testing/utils.pyc\u001b[0m in \u001b[0;36massert_array_equal\u001b[0;34m(x, y, err_msg, verbose)\u001b[0m\n\u001b[1;32m    705\u001b[0m     \"\"\"\n\u001b[1;32m    706\u001b[0m     assert_array_compare(operator.__eq__, x, y, err_msg=err_msg,\n\u001b[0;32m--> 707\u001b[0;31m                          verbose=verbose, header='Arrays are not equal')\n\u001b[0m\u001b[1;32m    708\u001b[0m \u001b[0;34m\u001b[0m\u001b[0m\n\u001b[1;32m    709\u001b[0m \u001b[0;32mdef\u001b[0m \u001b[0massert_array_almost_equal\u001b[0m\u001b[0;34m(\u001b[0m\u001b[0mx\u001b[0m\u001b[0;34m,\u001b[0m \u001b[0my\u001b[0m\u001b[0;34m,\u001b[0m \u001b[0mdecimal\u001b[0m\u001b[0;34m=\u001b[0m\u001b[0;36m6\u001b[0m\u001b[0;34m,\u001b[0m \u001b[0merr_msg\u001b[0m\u001b[0;34m=\u001b[0m\u001b[0;34m''\u001b[0m\u001b[0;34m,\u001b[0m \u001b[0mverbose\u001b[0m\u001b[0;34m=\u001b[0m\u001b[0mTrue\u001b[0m\u001b[0;34m)\u001b[0m\u001b[0;34m:\u001b[0m\u001b[0;34m\u001b[0m\u001b[0m\n",
        "\u001b[0;32m/usr/lib/pymodules/python2.7/numpy/testing/utils.pyc\u001b[0m in \u001b[0;36massert_array_compare\u001b[0;34m(comparison, x, y, err_msg, verbose, header)\u001b[0m\n\u001b[1;32m    634\u001b[0m                                 names=('x', 'y'))\n\u001b[1;32m    635\u001b[0m             \u001b[0;32mif\u001b[0m \u001b[0;32mnot\u001b[0m \u001b[0mcond\u001b[0m \u001b[0;34m:\u001b[0m\u001b[0;34m\u001b[0m\u001b[0m\n\u001b[0;32m--> 636\u001b[0;31m                 \u001b[0;32mraise\u001b[0m \u001b[0mAssertionError\u001b[0m\u001b[0;34m(\u001b[0m\u001b[0mmsg\u001b[0m\u001b[0;34m)\u001b[0m\u001b[0;34m\u001b[0m\u001b[0m\n\u001b[0m\u001b[1;32m    637\u001b[0m     \u001b[0;32mexcept\u001b[0m \u001b[0mValueError\u001b[0m\u001b[0;34m,\u001b[0m \u001b[0me\u001b[0m\u001b[0;34m:\u001b[0m\u001b[0;34m\u001b[0m\u001b[0m\n\u001b[1;32m    638\u001b[0m         \u001b[0mheader\u001b[0m \u001b[0;34m=\u001b[0m \u001b[0;34m'error during assertion:\\n%s\\n\\n%s'\u001b[0m \u001b[0;34m%\u001b[0m \u001b[0;34m(\u001b[0m\u001b[0me\u001b[0m\u001b[0;34m,\u001b[0m \u001b[0mheader\u001b[0m\u001b[0;34m)\u001b[0m\u001b[0;34m\u001b[0m\u001b[0m\n",
        "\u001b[0;31mAssertionError\u001b[0m: \nArrays are not equal\n\n(mismatch 100.0%)\n x: array([ 0.0, -0.059993878, -0.11876339, -0.17630854, -0.23262932,\n       -0.28772574, -0.3415978, -0.39424549, -0.44566881, -0.49586777,\n       -0.54484236, -0.59259259, -0.63911846, -0.68441996, -0.72849709,...\n y: array([ 1.0,  0.94000612,  0.88123661,  0.82369146,  0.76737068,\n        0.71227426,  0.6584022,  0.60575451,  0.55433119,  0.50413223,\n        0.45515764,  0.40740741,  0.36088154,  0.31558004,  0.27150291,..."
       ]
      }
     ],
     "prompt_number": 15
    },
    {
     "cell_type": "markdown",
     "metadata": {},
     "source": [
      "### 1.8.2 The Chebyshev Polynomials\n",
      "Chebyshev \ub2e4\ud56d\uc2dd\uc740 \uc0bc\uac01\ud568\uc218\ub97c \ud1b5\ud574 \uc0dd\uc131\ud560 \uc218 \uc788\ub2e4.\n",
      "\n",
      "> $T_k(x)=\\cos(k \\cos^{-1}(x))$\n",
      "\n",
      "\ub3d9\uc2dc\uc5d0 \ub2e4\uc74c\uc758 \uc7ac\uadc0\uad00\uacc4\ub3c4 \ub9cc\uc871\ud55c\ub2e4.\n",
      "\n",
      "> $T_{k+1}(x) = 2x T_k(x) - T_{k-1}(x)$\n",
      "\n",
      "> $T_0(x) = 1,\\quad T_1(x) = x$\n",
      "\n",
      "\ubbf8\ubd84\uac12\uc758 \uc7ac\uadc0\uad00\uacc4\ub294 \ub2e4\uc74c\uacfc \uac19\ub2e4.\n",
      "\n",
      "> $2T_k(x) = \\frac{1}{k+1}\\frac{d}{dx} T_{k+1} - \\frac{1}{k-1}\\frac{d}{dx} T_{k-1}$\n",
      "\n",
      "$L^2$ norm\uc740 \ub2e4\uc74c\uacfc \uac19\ub2e4.\n",
      "\n",
      "> $||T_k||^2_w = \\int^1_{-1} \\frac{T^2_k dx}{\\sqrt{1-x^2}} = c_k \\frac{\\pi}{2}$\n",
      "\n",
      "> $c_k = 2 (k = 0), 1 (k \\ge 1)$"
     ]
    },
    {
     "cell_type": "markdown",
     "metadata": {},
     "source": [
      "# 3. Algorithms for Non-Periodic Functions"
     ]
    },
    {
     "cell_type": "code",
     "collapsed": false,
     "input": [],
     "language": "python",
     "metadata": {},
     "outputs": []
    }
   ],
   "metadata": {}
  }
 ]
}